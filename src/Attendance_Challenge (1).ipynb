{
  "cells": [
    {
      "cell_type": "code",
      "execution_count": null,
      "id": "ffabd767",
      "metadata": {
        "id": "ffabd767",
        "outputId": "c293e129-ebf0-4dea-90e8-abbc3974ee3b"
      },
      "outputs": [
        {
          "data": {
            "text/html": [
              "<div>\n",
              "<style scoped>\n",
              "    .dataframe tbody tr th:only-of-type {\n",
              "        vertical-align: middle;\n",
              "    }\n",
              "\n",
              "    .dataframe tbody tr th {\n",
              "        vertical-align: top;\n",
              "    }\n",
              "\n",
              "    .dataframe thead th {\n",
              "        text-align: right;\n",
              "    }\n",
              "</style>\n",
              "<table border=\"1\" class=\"dataframe\">\n",
              "  <thead>\n",
              "    <tr style=\"text-align: right;\">\n",
              "      <th></th>\n",
              "      <th>ID</th>\n",
              "      <th>Name</th>\n",
              "      <th>Roll_no</th>\n",
              "      <th>Department</th>\n",
              "      <th>Time</th>\n",
              "      <th>Date</th>\n",
              "      <th>Status</th>\n",
              "    </tr>\n",
              "  </thead>\n",
              "  <tbody>\n",
              "    <tr>\n",
              "      <th>0</th>\n",
              "      <td>1</td>\n",
              "      <td>Keshav Raj Poudel</td>\n",
              "      <td>171346</td>\n",
              "      <td>Computer</td>\n",
              "      <td>12:04:01</td>\n",
              "      <td>04/10/2021</td>\n",
              "      <td>Present</td>\n",
              "    </tr>\n",
              "    <tr>\n",
              "      <th>1</th>\n",
              "      <td>1</td>\n",
              "      <td>Keshav Raj Poudel</td>\n",
              "      <td>171346</td>\n",
              "      <td>Computer</td>\n",
              "      <td>12:21:21</td>\n",
              "      <td>28/12/2021</td>\n",
              "      <td>Present</td>\n",
              "    </tr>\n",
              "    <tr>\n",
              "      <th>2</th>\n",
              "      <td>1</td>\n",
              "      <td>Keshav Raj Poudel</td>\n",
              "      <td>171346</td>\n",
              "      <td>Computer</td>\n",
              "      <td>12:34:21</td>\n",
              "      <td>29/12/2021</td>\n",
              "      <td>Present</td>\n",
              "    </tr>\n",
              "    <tr>\n",
              "      <th>3</th>\n",
              "      <td>2</td>\n",
              "      <td>Nipesh Shrestha</td>\n",
              "      <td>13422</td>\n",
              "      <td>IT</td>\n",
              "      <td>10:30:21</td>\n",
              "      <td>04/10/2022</td>\n",
              "      <td>Present</td>\n",
              "    </tr>\n",
              "    <tr>\n",
              "      <th>4</th>\n",
              "      <td>2</td>\n",
              "      <td>Nipesh Shrestha</td>\n",
              "      <td>13422</td>\n",
              "      <td>IT</td>\n",
              "      <td>10:30:21</td>\n",
              "      <td>06/10/2022</td>\n",
              "      <td>Present</td>\n",
              "    </tr>\n",
              "  </tbody>\n",
              "</table>\n",
              "</div>"
            ],
            "text/plain": [
              "   ID               Name  Roll_no Department       Time        Date   Status\n",
              "0   1  Keshav Raj Poudel   171346    Computer  12:04:01  04/10/2021  Present\n",
              "1   1  Keshav Raj Poudel   171346    Computer  12:21:21  28/12/2021  Present\n",
              "2   1  Keshav Raj Poudel   171346    Computer  12:34:21  29/12/2021  Present\n",
              "3   2    Nipesh Shrestha    13422          IT  10:30:21  04/10/2022  Present\n",
              "4   2    Nipesh Shrestha    13422          IT  10:30:21  06/10/2022  Present"
            ]
          },
          "execution_count": 127,
          "metadata": {},
          "output_type": "execute_result"
        }
      ],
      "source": [
        "import pandas as pd\n",
        "attd=pd.read_csv(\"Attendance.csv\")\n",
        "attDF=pd.DataFrame(attd)\n",
        "\n",
        "attDF"
      ]
    },
    {
      "cell_type": "code",
      "execution_count": null,
      "id": "91b2a00a",
      "metadata": {
        "id": "91b2a00a"
      },
      "outputs": [],
      "source": [
        "presentStatus=attDF[\"ID\"].value_counts()"
      ]
    },
    {
      "cell_type": "code",
      "execution_count": null,
      "id": "96324e40",
      "metadata": {
        "id": "96324e40"
      },
      "outputs": [],
      "source": [
        "presentStatus[2]"
      ]
    },
    {
      "cell_type": "code",
      "execution_count": null,
      "id": "4ac9678e",
      "metadata": {
        "id": "4ac9678e",
        "outputId": "5be39da4-9862-40ec-b4af-886546c525ec"
      },
      "outputs": [
        {
          "name": "stdout",
          "output_type": "stream",
          "text": [
            "{'ID': 1, 'Name': 'Keshav Raj Poudel', 'Roll Number': 171346, 'Number of Present Days': 3}\n",
            "{'ID': 1, 'Name': 'Keshav Raj Poudel', 'Roll Number': 171346, 'Number of Present Days': 3}\n",
            "{'ID': 1, 'Name': 'Keshav Raj Poudel', 'Roll Number': 171346, 'Number of Present Days': 3}\n",
            "{'ID': 2, 'Name': 'Nipesh Shrestha', 'Roll Number': 13422, 'Number of Present Days': 2}\n",
            "{'ID': 2, 'Name': 'Nipesh Shrestha', 'Roll Number': 13422, 'Number of Present Days': 2}\n"
          ]
        }
      ],
      "source": [
        "recordDF=pd.DataFrame(columns=['ID','Name','Roll Number','Number of Present Days'])\n",
        "for index, row in attDF.iterrows():\n",
        "    for id in attDF['ID'].unique():\n",
        "        if(row[\"ID\"])==id:\n",
        "            data={'ID':row['ID'], 'Name':row['Name'],'Roll Number':row[\"Roll_no\"], 'Number of Present Days': presentStatus[id]}\n",
        "            print(data)\n",
        "            recordDF=recordDF.append(data, ignore_index=True)"
      ]
    },
    {
      "cell_type": "markdown",
      "source": [
        ""
      ],
      "metadata": {
        "id": "uu_-kTSEvBH8"
      },
      "id": "uu_-kTSEvBH8"
    },
    {
      "cell_type": "code",
      "execution_count": null,
      "id": "29845596",
      "metadata": {
        "id": "29845596"
      },
      "outputs": [],
      "source": [
        "recordDF.drop_duplicates(subset =[\"ID\"], inplace = True)\n",
        "recordDF"
      ]
    },
    {
      "cell_type": "code",
      "execution_count": null,
      "id": "bb3efc01",
      "metadata": {
        "id": "bb3efc01"
      },
      "outputs": [],
      "source": [
        "recordDF.to_csv(\"MonthlyReport.csv\", index=False)"
      ]
    },
    {
      "cell_type": "code",
      "execution_count": null,
      "id": "c5a6c4e7",
      "metadata": {
        "id": "c5a6c4e7"
      },
      "outputs": [],
      "source": [
        "pd.read_csv(\"MonthlyReport.csv\")"
      ]
    },
    {
      "cell_type": "code",
      "execution_count": null,
      "id": "848d210a",
      "metadata": {
        "id": "848d210a"
      },
      "outputs": [],
      "source": [
        ""
      ]
    }
  ],
  "metadata": {
    "kernelspec": {
      "display_name": "Python 3 (ipykernel)",
      "language": "python",
      "name": "python3"
    },
    "language_info": {
      "codemirror_mode": {
        "name": "ipython",
        "version": 3
      },
      "file_extension": ".py",
      "mimetype": "text/x-python",
      "name": "python",
      "nbconvert_exporter": "python",
      "pygments_lexer": "ipython3",
      "version": "3.9.7"
    },
    "colab": {
      "name": "Attendance Challenge.ipynb",
      "provenance": []
    }
  },
  "nbformat": 4,
  "nbformat_minor": 5
}