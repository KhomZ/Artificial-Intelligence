{
 "cells": [
  {
   "cell_type": "markdown",
   "id": "8321e6b7",
   "metadata": {},
   "source": [
    "# Introduction to Jupyter Notebooks\n",
    "\n",
    "[Jupyter Notebooks](https://jupyter.org/) are an enviornment allowing you to code and to take notes in one same document. That means that in this notebook you can:\n",
    "- write cells like this one in [markdown](https://en.wikipedia.org/wiki/Markdown) (try and press `Enter` when this cell is selected, it will show you the code for it... press `Ctrl-Enter` or `Shift-Enter` and it's back to how it was!);\n",
    "- write code cells like the one just below (press `Ctrl-Enter` or `Shift-Enter` to run it as well):\n",
    "\n",
    "*Khom"
   ]
  },
  {
   "cell_type": "code",
   "execution_count": 1,
   "id": "d283110e",
   "metadata": {},
   "outputs": [
    {
     "name": "stdout",
     "output_type": "stream",
     "text": [
      "Hello ikhomkodes!\n"
     ]
    }
   ],
   "source": [
    "print(\"Hello ikhomkodes!\")"
   ]
  },
  {
   "cell_type": "markdown",
   "id": "0f1c6783",
   "metadata": {},
   "source": [
    "## Shortcuts\n",
    "\n",
    "The Jupyter environment is full of shortcuts and great things that make your life easier. \n",
    "\n",
    "A quick list:\n",
    "- press `Enter` to start typing into a cell, `Escape` to navigate your notebook (you can then press `j` or `k`, or the arrow keys, to go up and down;\n",
    "- when navigating (not typing in a cell), you can press `a` to create a new cell above, `b` for below;\n",
    "- if a cell is selected (but you are not typing in it), you can press `m` to turn it into a `markdown` cell, and `y` to make it a code cell;\n",
    "- if you press `Ctrl-Enter`, you will run the cell and stay on it, whereas if you press `Shift+Enter`, you go one cell below (and if it is the last one, a new one will be created);\n",
    "- if a cell is selected, you can press `x` to cut it, `c` to copy it, and then `v` to paste after the current cell, and `V` to paste before it;\n",
    "- **Many** other shortcuts, which you can also customise, check in the menu above \"Help\" > \"Keyboard Shortcuts\".\n",
    "\n",
    "---"
   ]
  },
  {
   "cell_type": "markdown",
   "id": "5b16ad5b",
   "metadata": {},
   "source": [
    "## Markdown\n",
    "\n",
    "Markdown is an easy way to write text in a web context without going for the full html syntax. \n",
    "\n",
    "You can check out [this cheatsheet](https://github.com/adam-p/markdown-here/wiki/Markdown-Cheatsheet). \n",
    "\n",
    "Basic things:\n",
    "- Separate paragraphs with an empty line, or two spaces at the end of the line;\n",
    "- italic with `*asterisks*` or `_underscores_`, bold with `**two**` or `__two__`, (the two can be combined);\n",
    "- lists, numbered or unnumbered, like so:\n",
    "\n",
    "```\n",
    "unnumbered list with a line starting with -\n",
    "numbered list with 1., 2., etc.\n",
    "```\n",
    "\n",
    "- code snippets using this the grave accent \\`, multiline with three of them \\`\\`\\`;\n",
    "- titles (h1-6) using `#` starting the line, from just one to six;\n",
    "- three stars `***` or dashes `---` give you a horizontal line like tihs one (it needs to be at the start of the line): \n",
    "---\n",
    "- links are generated like so: `[text](link.com)`;\n",
    "- images similarly: `![image text](image.jpg)`;\n",
    "\n",
    "For more details, check out the cheatsheet!"
   ]
  },
  {
   "cell_type": "markdown",
   "id": "1be28bfa",
   "metadata": {},
   "source": [
    "---\n",
    "\n",
    "# Simple coding\n",
    "\n",
    "As seen in the videos, any code cell allows you to input code and get results immediately."
   ]
  },
  {
   "cell_type": "code",
   "execution_count": 2,
   "id": "c629d8ec",
   "metadata": {},
   "outputs": [
    {
     "data": {
      "text/plain": [
       "12"
      ]
     },
     "execution_count": 2,
     "metadata": {},
     "output_type": "execute_result"
    }
   ],
   "source": [
    "x = 10\n",
    "y = x +2\n",
    "y"
   ]
  },
  {
   "cell_type": "markdown",
   "id": "d36dd6fb",
   "metadata": {},
   "source": [
    "Notice that if you run a cell with a variable at the end of it, it will act like a print out of that variable."
   ]
  },
  {
   "cell_type": "code",
   "execution_count": 3,
   "id": "746d07ec",
   "metadata": {},
   "outputs": [
    {
     "name": "stdout",
     "output_type": "stream",
     "text": [
      "12\n"
     ]
    }
   ],
   "source": [
    "print(y)  # same as above, and our y still exist"
   ]
  },
  {
   "cell_type": "markdown",
   "id": "5a7fbfb3",
   "metadata": {},
   "source": [
    "You can do all sorts of nice things now in Python!"
   ]
  },
  {
   "cell_type": "code",
   "execution_count": 5,
   "id": "b8c858bf",
   "metadata": {},
   "outputs": [
    {
     "name": "stdout",
     "output_type": "stream",
     "text": [
      "[1, 4, 9, 16]\n",
      "16\n"
     ]
    }
   ],
   "source": [
    "mylist = [1,2,3,4]\n",
    "mylist_squared = [element**2 for element in mylist]  # nice and Pythonic list comprehensive syntax\n",
    "print(mylist_squared)\n",
    "print(max(mylist_squared))  # the maximum element will be obtained as output"
   ]
  },
  {
   "cell_type": "markdown",
   "id": "2225f800",
   "metadata": {},
   "source": [
    "When in doubt, ask for help! It can be quite dry at first but if you get used to how it's written, it's a goldmine of information!"
   ]
  },
  {
   "cell_type": "code",
   "execution_count": 6,
   "id": "c064d0ec",
   "metadata": {},
   "outputs": [
    {
     "name": "stdout",
     "output_type": "stream",
     "text": [
      "Help on built-in function max in module builtins:\n",
      "\n",
      "max(...)\n",
      "    max(iterable, *[, default=obj, key=func]) -> value\n",
      "    max(arg1, arg2, *args, *[, key=func]) -> value\n",
      "    \n",
      "    With a single iterable argument, return its biggest item. The\n",
      "    default keyword-only argument specifies an object to return if\n",
      "    the provided iterable is empty.\n",
      "    With two or more arguments, return the largest argument.\n",
      "\n"
     ]
    }
   ],
   "source": [
    "help(max)"
   ]
  },
  {
   "cell_type": "markdown",
   "id": "c25d5c48",
   "metadata": {},
   "source": [
    "Don't ever forget to press the `TAB` button as well, which allows you to access both the autocomplete (for variables, classes and functions names) and methods (in-built functionality from libraries).\n",
    "\n",
    "In the cell below, put your cursor at the end of each of those, press `TAB` and look at the list of options. (These will only work if you have run the cells defining the variables `mylist` and `mylist_squared` above!)\n",
    "\n",
    "Beware! These cells are now incomplete, and will throw an error if you run them like that!"
   ]
  },
  {
   "cell_type": "code",
   "execution_count": 7,
   "id": "08cb270f",
   "metadata": {},
   "outputs": [
    {
     "ename": "NameError",
     "evalue": "name 'my' is not defined",
     "output_type": "error",
     "traceback": [
      "\u001b[1;31m---------------------------------------------------------------------------\u001b[0m",
      "\u001b[1;31mNameError\u001b[0m                                 Traceback (most recent call last)",
      "\u001b[1;32m~\\AppData\\Local\\Temp/ipykernel_24948/1824249343.py\u001b[0m in \u001b[0;36m<module>\u001b[1;34m\u001b[0m\n\u001b[1;32m----> 1\u001b[1;33m \u001b[0mmy\u001b[0m \u001b[1;31m# put your cursor after y and hit `TAB`: you will be able to choose between the two variables starting by these letters\u001b[0m\u001b[1;33m\u001b[0m\u001b[1;33m\u001b[0m\u001b[0m\n\u001b[0m",
      "\u001b[1;31mNameError\u001b[0m: name 'my' is not defined"
     ]
    }
   ],
   "source": [
    "my # put your cursor after y and hit `TAB`: you will be able to choose between the two variables starting by these letters"
   ]
  },
  {
   "cell_type": "code",
   "execution_count": 8,
   "id": "c59a1ad6",
   "metadata": {},
   "outputs": [
    {
     "ename": "SyntaxError",
     "evalue": "invalid syntax (Temp/ipykernel_24948/1690504220.py, line 1)",
     "output_type": "error",
     "traceback": [
      "\u001b[1;36m  File \u001b[1;32m\"C:\\Users\\ACER\\AppData\\Local\\Temp/ipykernel_24948/1690504220.py\"\u001b[1;36m, line \u001b[1;32m1\u001b[0m\n\u001b[1;33m    mylist. # hitting `TAB` after the . will show all list methods that Python has (many!)\u001b[0m\n\u001b[1;37m            ^\u001b[0m\n\u001b[1;31mSyntaxError\u001b[0m\u001b[1;31m:\u001b[0m invalid syntax\n"
     ]
    }
   ],
   "source": [
    "mylist. # hitting `TAB` after the . will show all list methods that Python has (many!)"
   ]
  },
  {
   "cell_type": "markdown",
   "id": "e4b3b529",
   "metadata": {},
   "source": [
    "## Now a Data Science example!"
   ]
  },
  {
   "cell_type": "code",
   "execution_count": 9,
   "id": "0bc6d9fc",
   "metadata": {},
   "outputs": [
    {
     "data": {
      "image/png": "[encoded data removed]",
      "text/plain": [
       "<Figure size 432x288 with 1 Axes>"
      ]
     },
     "metadata": {
      "needs_background": "light"
     },
     "output_type": "display_data"
    }
   ],
   "source": [
    "%matplotlib inline\n",
    "\n",
    "import matplotlib  # remember in Python you have to import the relevant libraries\n",
    "\n",
    "import numpy as np\n",
    "\n",
    "import matplotlib.pyplot as plt\n",
    "\n",
    "x = np.linspace(0.1, 10)  # return evenly spaced numbers over a specified interval, from 0.1 to 10 (see the help below)\n",
    "\n",
    "line = plt.plot(x, np.log(x), '--', linewidth = 1)  # plot these evenly spaced numbers against their logarithm\n",
    "                                                    # use '--' as line (try with just one for instance),\n",
    "                                                    # and control the width"
   ]
  },
  {
   "cell_type": "code",
   "execution_count": 10,
   "id": "f76d4b01",
   "metadata": {},
   "outputs": [
    {
     "name": "stdout",
     "output_type": "stream",
     "text": [
      "Help on function linspace in module numpy:\n",
      "\n",
      "linspace(start, stop, num=50, endpoint=True, retstep=False, dtype=None, axis=0)\n",
      "    Return evenly spaced numbers over a specified interval.\n",
      "    \n",
      "    Returns `num` evenly spaced samples, calculated over the\n",
      "    interval [`start`, `stop`].\n",
      "    \n",
      "    The endpoint of the interval can optionally be excluded.\n",
      "    \n",
      "    .. versionchanged:: 1.16.0\n",
      "        Non-scalar `start` and `stop` are now supported.\n",
      "    \n",
      "    .. versionchanged:: 1.20.0\n",
      "        Values are rounded towards ``-inf`` instead of ``0`` when an\n",
      "        integer ``dtype`` is specified. The old behavior can\n",
      "        still be obtained with ``np.linspace(start, stop, num).astype(int)``\n",
      "    \n",
      "    Parameters\n",
      "    ----------\n",
      "    start : array_like\n",
      "        The starting value of the sequence.\n",
      "    stop : array_like\n",
      "        The end value of the sequence, unless `endpoint` is set to False.\n",
      "        In that case, the sequence consists of all but the last of ``num + 1``\n",
      "        evenly spaced samples, so that `stop` is excluded.  Note that the step\n",
      "        size changes when `endpoint` is False.\n",
      "    num : int, optional\n",
      "        Number of samples to generate. Default is 50. Must be non-negative.\n",
      "    endpoint : bool, optional\n",
      "        If True, `stop` is the last sample. Otherwise, it is not included.\n",
      "        Default is True.\n",
      "    retstep : bool, optional\n",
      "        If True, return (`samples`, `step`), where `step` is the spacing\n",
      "        between samples.\n",
      "    dtype : dtype, optional\n",
      "        The type of the output array.  If `dtype` is not given, the data type\n",
      "        is inferred from `start` and `stop`. The inferred dtype will never be\n",
      "        an integer; `float` is chosen even if the arguments would produce an\n",
      "        array of integers.\n",
      "    \n",
      "        .. versionadded:: 1.9.0\n",
      "    \n",
      "    axis : int, optional\n",
      "        The axis in the result to store the samples.  Relevant only if start\n",
      "        or stop are array-like.  By default (0), the samples will be along a\n",
      "        new axis inserted at the beginning. Use -1 to get an axis at the end.\n",
      "    \n",
      "        .. versionadded:: 1.16.0\n",
      "    \n",
      "    Returns\n",
      "    -------\n",
      "    samples : ndarray\n",
      "        There are `num` equally spaced samples in the closed interval\n",
      "        ``[start, stop]`` or the half-open interval ``[start, stop)``\n",
      "        (depending on whether `endpoint` is True or False).\n",
      "    step : float, optional\n",
      "        Only returned if `retstep` is True\n",
      "    \n",
      "        Size of spacing between samples.\n",
      "    \n",
      "    \n",
      "    See Also\n",
      "    --------\n",
      "    arange : Similar to `linspace`, but uses a step size (instead of the\n",
      "             number of samples).\n",
      "    geomspace : Similar to `linspace`, but with numbers spaced evenly on a log\n",
      "                scale (a geometric progression).\n",
      "    logspace : Similar to `geomspace`, but with the end points specified as\n",
      "               logarithms.\n",
      "    \n",
      "    Examples\n",
      "    --------\n",
      "    >>> np.linspace(2.0, 3.0, num=5)\n",
      "    array([2.  , 2.25, 2.5 , 2.75, 3.  ])\n",
      "    >>> np.linspace(2.0, 3.0, num=5, endpoint=False)\n",
      "    array([2. ,  2.2,  2.4,  2.6,  2.8])\n",
      "    >>> np.linspace(2.0, 3.0, num=5, retstep=True)\n",
      "    (array([2.  ,  2.25,  2.5 ,  2.75,  3.  ]), 0.25)\n",
      "    \n",
      "    Graphical illustration:\n",
      "    \n",
      "    >>> import matplotlib.pyplot as plt\n",
      "    >>> N = 8\n",
      "    >>> y = np.zeros(N)\n",
      "    >>> x1 = np.linspace(0, 10, N, endpoint=True)\n",
      "    >>> x2 = np.linspace(0, 10, N, endpoint=False)\n",
      "    >>> plt.plot(x1, y, 'o')\n",
      "    [<matplotlib.lines.Line2D object at 0x...>]\n",
      "    >>> plt.plot(x2, y + 0.5, 'o')\n",
      "    [<matplotlib.lines.Line2D object at 0x...>]\n",
      "    >>> plt.ylim([-0.5, 1])\n",
      "    (-0.5, 1)\n",
      "    >>> plt.show()\n",
      "\n"
     ]
    }
   ],
   "source": [
    "help(np.linspace)"
   ]
  },
  {
   "cell_type": "code",
   "execution_count": null,
   "id": "991b8506",
   "metadata": {},
   "outputs": [],
   "source": []
  }
 ],
 "metadata": {
  "kernelspec": {
   "display_name": "Python 3 (ipykernel)",
   "language": "python",
   "name": "python3"
  },
  "language_info": {
   "codemirror_mode": {
    "name": "ipython",
    "version": 3
   },
   "file_extension": ".py",
   "mimetype": "text/x-python",
   "name": "python",
   "nbconvert_exporter": "python",
   "pygments_lexer": "ipython3",
   "version": "3.9.7"
  }
 },
 "nbformat": 4,
 "nbformat_minor": 5
}
