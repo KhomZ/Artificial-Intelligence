{
 "cells": [
  {
   "cell_type": "markdown",
   "id": "7d61d78b",
   "metadata": {},
   "source": [
    "* Go into the Jupyter Notebooks course item and start a new notebook. \n",
    "\n",
    "* Write a program that prints out a greeting which includes your name and where you are from. \n",
    "\n",
    "* Take a screenshot of your Jupyter Notebook screen, showing a cell containing your code and the output of your program.\n",
    "\n",
    "* Upload the screenshot to this submission prompt.\n",
    "\n"
   ]
  },
  {
   "cell_type": "code",
   "execution_count": 1,
   "id": "591fe78c",
   "metadata": {},
   "outputs": [
    {
     "name": "stdout",
     "output_type": "stream",
     "text": [
      "Hello everyone!\n"
     ]
    }
   ],
   "source": [
    "print('Hello everyone!')"
   ]
  },
  {
   "cell_type": "code",
   "execution_count": 2,
   "id": "979facad",
   "metadata": {},
   "outputs": [
    {
     "name": "stdout",
     "output_type": "stream",
     "text": [
      "I am Khom Thapa Mgr\n"
     ]
    }
   ],
   "source": [
    "print('I am Khom Thapa Mgr')"
   ]
  },
  {
   "cell_type": "code",
   "execution_count": 3,
   "id": "cd52497b",
   "metadata": {},
   "outputs": [
    {
     "name": "stdout",
     "output_type": "stream",
     "text": [
      "The place where I reside is called Kathmandu, the capital city of Nepal. Thank you!\n"
     ]
    }
   ],
   "source": [
    "print('The place where I reside is called Kathmandu, the capital city of Nepal. Thank you!')"
   ]
  },
  {
   "cell_type": "code",
   "execution_count": null,
   "id": "57e1a8fa",
   "metadata": {},
   "outputs": [],
   "source": []
  }
 ],
 "metadata": {
  "kernelspec": {
   "display_name": "Python 3 (ipykernel)",
   "language": "python",
   "name": "python3"
  },
  "language_info": {
   "codemirror_mode": {
    "name": "ipython",
    "version": 3
   },
   "file_extension": ".py",
   "mimetype": "text/x-python",
   "name": "python",
   "nbconvert_exporter": "python",
   "pygments_lexer": "ipython3",
   "version": "3.9.7"
  }
 },
 "nbformat": 4,
 "nbformat_minor": 5
}
